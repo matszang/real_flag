{
 "cells": [
  {
   "cell_type": "markdown",
   "metadata": {
    "deletable": true,
    "editable": true
   },
   "source": [
    "### Compute cohomology groups of real flag manifolds\n",
    "\n",
    "The SageMath code below computes the cohomology groups of real flag manifolds. It uses the homology package of SageMath. Its usage is illustrated below. \n",
    "\n",
    "* Input: a list of integers $D=(d_1,\\ldots,d_m)$, which are the differences in the dimensions of the flags. $N=\\sum d_i$.\n",
    "\n",
    "* Output: Schubert cell generators of the rational cohomology groups, which are indexed by ordered set partitions $\\binom{N}{D}$. \n",
    "\n",
    "The data structures `Schubertcell` and `flagcomplex` contain further information about the cohomology (e.g. torsion), see the documentation. Just click in the cell to edit, and press `ctrl+enter` to run a cell."
   ]
  },
  {
   "cell_type": "code",
   "execution_count": 1,
   "metadata": {
    "collapsed": true,
    "deletable": true,
    "editable": true
   },
   "outputs": [],
   "source": [
    "from sage.homology.homology_group import HomologyGroup\n",
    "load(\"real_flag.sage\")"
   ]
  },
  {
   "cell_type": "markdown",
   "metadata": {
    "deletable": true,
    "editable": true
   },
   "source": [
    "Change D below to compute different flag manifolds. \n",
    "It can handle $\\sum d_i\\leq 6$ under reasonable time, I found $D=1^8$ to be the limit. (Also depends on $m$, the number of $d_i$'s.)"
   ]
  },
  {
   "cell_type": "code",
   "execution_count": 2,
   "metadata": {
    "collapsed": false,
    "deletable": true,
    "editable": true
   },
   "outputs": [
    {
     "name": "stdout",
     "output_type": "stream",
     "text": [
      "Cohomology has only 2-torsion.\n",
      "codim 0: [8, 9, 5, 6, 7, 1, 2, 3, 4]\r\n",
      "\r\n",
      "codim 4: [6, 7, 5, 8, 9, 1, 2, 3, 4]\r\n",
      "\r\n",
      "codim 4: [8, 9, 3, 4, 7, 1, 2, 5, 6]\r\n",
      "\r\n",
      "codim 8: [4, 7, 5, 6, 9, 1, 2, 3, 8], [6, 7, 3, 4, 9, 1, 2, 5, 8]\r\n",
      "\r\n",
      "codim 8: [4, 5, 7, 8, 9, 1, 2, 3, 6]\r\n",
      "\r\n",
      "codim 8: [8, 9, 1, 2, 7, 3, 4, 5, 6]\r\n",
      "\r\n",
      "codim 12: [2, 7, 3, 6, 9, 1, 4, 5, 8], [6, 7, 1, 2, 9, 3, 4, 5, 8]\r\n",
      "\r\n",
      "codim 12: [2, 3, 7, 8, 9, 1, 4, 5, 6]\r\n",
      "\r\n",
      "codim 12: [4, 5, 3, 6, 9, 1, 2, 7, 8]\r\n",
      "\r\n",
      "codim 16: [2, 5, 3, 4, 9, 1, 6, 7, 8], [4, 5, 1, 2, 9, 3, 6, 7, 8]\r\n",
      "\r\n",
      "codim 16: [2, 3, 5, 6, 9, 1, 4, 7, 8]\r\n",
      "\r\n",
      "codim 20: [2, 3, 1, 4, 9, 5, 6, 7, 8]\r\n",
      "\r\n"
     ]
    }
   ],
   "source": [
    "D = [2,3,4]\n",
    "F = flagcomplex(D)"
   ]
  }
 ],
 "metadata": {
  "kernelspec": {
   "display_name": "SageMath 8.1",
   "language": "",
   "name": "sagemath"
  },
  "language_info": {
   "codemirror_mode": {
    "name": "ipython",
    "version": 2
   },
   "file_extension": ".py",
   "mimetype": "text/x-python",
   "name": "python",
   "nbconvert_exporter": "python",
   "pygments_lexer": "ipython2",
   "version": "2.7.14"
  }
 },
 "nbformat": 4,
 "nbformat_minor": 2
}
